{
 "cells": [
  {
   "cell_type": "code",
   "execution_count": 1,
   "id": "b8ba502f",
   "metadata": {},
   "outputs": [],
   "source": [
    "char stu[5][10]"
   ]
  },
  {
   "cell_type": "code",
   "execution_count": 2,
   "id": "db59e28b",
   "metadata": {},
   "outputs": [],
   "source": [
    "#include <iostream>"
   ]
  },
  {
   "cell_type": "code",
   "execution_count": 5,
   "id": "fa8e0a6c",
   "metadata": {},
   "outputs": [
    {
     "name": "stderr",
     "output_type": "stream",
     "text": [
      "input_line_13:2:2: error: use of undeclared identifier 'cin'; did you mean 'sin'?\n",
      " cin.getline\n",
      " ^~~\n",
      " sin\n",
      "/3rd/anaconda3/x86_64-conda-linux-gnu/sysroot/usr/include/bits/mathcalls.h:66:13: note: 'sin' declared here\n",
      "__MATHCALL (sin,, (_Mdouble_ __x));\n",
      "            ^\n",
      "input_line_13:2:5: error: member reference base type 'double (double) throw()' is not a structure or union\n",
      " cin.getline\n",
      " ~~~^~~~~~~~\n"
     ]
    },
    {
     "ename": "Interpreter Error",
     "evalue": "",
     "output_type": "error",
     "traceback": [
      "Interpreter Error: "
     ]
    }
   ],
   "source": [
    "cin.getline\n"
   ]
  },
  {
   "cell_type": "code",
   "execution_count": null,
   "id": "72621dae",
   "metadata": {},
   "outputs": [],
   "source": []
  }
 ],
 "metadata": {
  "kernelspec": {
   "display_name": "C++11",
   "language": "C++11",
   "name": "xcpp11"
  },
  "language_info": {
   "codemirror_mode": "text/x-c++src",
   "file_extension": ".cpp",
   "mimetype": "text/x-c++src",
   "name": "c++",
   "version": "11"
  }
 },
 "nbformat": 4,
 "nbformat_minor": 5
}
